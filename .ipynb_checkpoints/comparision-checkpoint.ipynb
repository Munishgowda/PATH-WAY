{
 "cells": [
  {
   "cell_type": "code",
   "execution_count": 1,
   "id": "e5124ed7-821e-486e-b25d-80f5fd38f24a",
   "metadata": {},
   "outputs": [
    {
     "data": {
      "text/html": [
       "<div>\n",
       "<style scoped>\n",
       "    .dataframe tbody tr th:only-of-type {\n",
       "        vertical-align: middle;\n",
       "    }\n",
       "\n",
       "    .dataframe tbody tr th {\n",
       "        vertical-align: top;\n",
       "    }\n",
       "\n",
       "    .dataframe thead th {\n",
       "        text-align: right;\n",
       "    }\n",
       "</style>\n",
       "<table border=\"1\" class=\"dataframe\">\n",
       "  <thead>\n",
       "    <tr style=\"text-align: right;\">\n",
       "      <th></th>\n",
       "      <th>Site</th>\n",
       "      <th>Payload Type</th>\n",
       "      <th>Payload</th>\n",
       "      <th>HTTP Status</th>\n",
       "      <th>Plugin Response</th>\n",
       "      <th>Classification</th>\n",
       "    </tr>\n",
       "  </thead>\n",
       "  <tbody>\n",
       "    <tr>\n",
       "      <th>0</th>\n",
       "      <td>wp_vuln_7.4</td>\n",
       "      <td>simple</td>\n",
       "      <td>../../test-target.txt</td>\n",
       "      <td>200</td>\n",
       "      <td>File not found.</td>\n",
       "      <td>⚠️ Partial (Traversal allowed)</td>\n",
       "    </tr>\n",
       "    <tr>\n",
       "      <th>1</th>\n",
       "      <td>wp_vuln_7.4</td>\n",
       "      <td>url_encoded</td>\n",
       "      <td>../../test-target.txt</td>\n",
       "      <td>200</td>\n",
       "      <td>File not found.</td>\n",
       "      <td>⚠️ Partial (Traversal allowed)</td>\n",
       "    </tr>\n",
       "    <tr>\n",
       "      <th>2</th>\n",
       "      <td>wp_vuln_7.4</td>\n",
       "      <td>double_encoded</td>\n",
       "      <td>../../test-target.txt</td>\n",
       "      <td>200</td>\n",
       "      <td>File not found.</td>\n",
       "      <td>⚠️ Partial (Traversal allowed)</td>\n",
       "    </tr>\n",
       "    <tr>\n",
       "      <th>3</th>\n",
       "      <td>wp_patch_7.4</td>\n",
       "      <td>simple</td>\n",
       "      <td>../../test-target.txt</td>\n",
       "      <td>200</td>\n",
       "      <td>Invalid file path.</td>\n",
       "      <td>⛔ Blocked</td>\n",
       "    </tr>\n",
       "    <tr>\n",
       "      <th>4</th>\n",
       "      <td>wp_patch_7.4</td>\n",
       "      <td>url_encoded</td>\n",
       "      <td>../../test-target.txt</td>\n",
       "      <td>200</td>\n",
       "      <td>Invalid file path.</td>\n",
       "      <td>⛔ Blocked</td>\n",
       "    </tr>\n",
       "  </tbody>\n",
       "</table>\n",
       "</div>"
      ],
      "text/plain": [
       "           Site    Payload Type                Payload  HTTP Status  \\\n",
       "0   wp_vuln_7.4          simple  ../../test-target.txt          200   \n",
       "1   wp_vuln_7.4     url_encoded  ../../test-target.txt          200   \n",
       "2   wp_vuln_7.4  double_encoded  ../../test-target.txt          200   \n",
       "3  wp_patch_7.4          simple  ../../test-target.txt          200   \n",
       "4  wp_patch_7.4     url_encoded  ../../test-target.txt          200   \n",
       "\n",
       "      Plugin Response                  Classification  \n",
       "0     File not found.  ⚠️ Partial (Traversal allowed)  \n",
       "1     File not found.  ⚠️ Partial (Traversal allowed)  \n",
       "2     File not found.  ⚠️ Partial (Traversal allowed)  \n",
       "3  Invalid file path.                       ⛔ Blocked  \n",
       "4  Invalid file path.                       ⛔ Blocked  "
      ]
     },
     "execution_count": 1,
     "metadata": {},
     "output_type": "execute_result"
    }
   ],
   "source": [
    "import pandas as pd\n",
    "\n",
    "# Load your CSV file\n",
    "df = pd.read_csv(\"results/dynamic_results.csv\")\n",
    "\n",
    "# Display the first few rows\n",
    "df.head()\n"
   ]
  },
  {
   "cell_type": "code",
   "execution_count": 3,
   "id": "304502eb-1b00-495f-84b3-c233efe39b45",
   "metadata": {},
   "outputs": [
    {
     "data": {
      "text/plain": [
       "Classification\n",
       "⛔ Blocked                         6\n",
       "⚠️ Partial (Traversal allowed)    3\n",
       "Name: count, dtype: int64"
      ]
     },
     "execution_count": 3,
     "metadata": {},
     "output_type": "execute_result"
    }
   ],
   "source": [
    "df['Classification'].value_counts()"
   ]
  },
  {
   "cell_type": "code",
   "execution_count": 5,
   "id": "fc508212-d2e0-484e-b8c6-5de0c615b05f",
   "metadata": {},
   "outputs": [
    {
     "data": {
      "text/html": [
       "<div>\n",
       "<style scoped>\n",
       "    .dataframe tbody tr th:only-of-type {\n",
       "        vertical-align: middle;\n",
       "    }\n",
       "\n",
       "    .dataframe tbody tr th {\n",
       "        vertical-align: top;\n",
       "    }\n",
       "\n",
       "    .dataframe thead th {\n",
       "        text-align: right;\n",
       "    }\n",
       "</style>\n",
       "<table border=\"1\" class=\"dataframe\">\n",
       "  <thead>\n",
       "    <tr style=\"text-align: right;\">\n",
       "      <th>Classification</th>\n",
       "      <th>⚠️ Partial (Traversal allowed)</th>\n",
       "      <th>⛔ Blocked</th>\n",
       "    </tr>\n",
       "    <tr>\n",
       "      <th>Site</th>\n",
       "      <th></th>\n",
       "      <th></th>\n",
       "    </tr>\n",
       "  </thead>\n",
       "  <tbody>\n",
       "    <tr>\n",
       "      <th>wp_hardened_8.1</th>\n",
       "      <td>0.0</td>\n",
       "      <td>3.0</td>\n",
       "    </tr>\n",
       "    <tr>\n",
       "      <th>wp_patch_7.4</th>\n",
       "      <td>0.0</td>\n",
       "      <td>3.0</td>\n",
       "    </tr>\n",
       "    <tr>\n",
       "      <th>wp_vuln_7.4</th>\n",
       "      <td>3.0</td>\n",
       "      <td>0.0</td>\n",
       "    </tr>\n",
       "  </tbody>\n",
       "</table>\n",
       "</div>"
      ],
      "text/plain": [
       "Classification   ⚠️ Partial (Traversal allowed)  ⛔ Blocked\n",
       "Site                                                      \n",
       "wp_hardened_8.1                             0.0        3.0\n",
       "wp_patch_7.4                                0.0        3.0\n",
       "wp_vuln_7.4                                 3.0        0.0"
      ]
     },
     "execution_count": 5,
     "metadata": {},
     "output_type": "execute_result"
    }
   ],
   "source": [
    "site_summary = df.groupby(['Site', 'Classification']).size().unstack().fillna(0)\n",
    "site_summary"
   ]
  },
  {
   "cell_type": "code",
   "execution_count": 7,
   "id": "6b2ac84c-2303-40c2-8c77-5a9bf0d07ba0",
   "metadata": {},
   "outputs": [
    {
     "name": "stdout",
     "output_type": "stream",
     "text": [
      "Requirement already satisfied: matplotlib in h:\\anaconda\\lib\\site-packages (3.9.2)\n",
      "Requirement already satisfied: contourpy>=1.0.1 in h:\\anaconda\\lib\\site-packages (from matplotlib) (1.2.0)\n",
      "Requirement already satisfied: cycler>=0.10 in h:\\anaconda\\lib\\site-packages (from matplotlib) (0.11.0)\n",
      "Requirement already satisfied: fonttools>=4.22.0 in h:\\anaconda\\lib\\site-packages (from matplotlib) (4.51.0)\n",
      "Requirement already satisfied: kiwisolver>=1.3.1 in h:\\anaconda\\lib\\site-packages (from matplotlib) (1.4.4)\n",
      "Requirement already satisfied: numpy>=1.23 in h:\\anaconda\\lib\\site-packages (from matplotlib) (1.26.4)\n",
      "Requirement already satisfied: packaging>=20.0 in h:\\anaconda\\lib\\site-packages (from matplotlib) (24.1)\n",
      "Requirement already satisfied: pillow>=8 in h:\\anaconda\\lib\\site-packages (from matplotlib) (10.4.0)\n",
      "Requirement already satisfied: pyparsing>=2.3.1 in h:\\anaconda\\lib\\site-packages (from matplotlib) (3.1.2)\n",
      "Requirement already satisfied: python-dateutil>=2.7 in h:\\anaconda\\lib\\site-packages (from matplotlib) (2.9.0.post0)\n",
      "Requirement already satisfied: six>=1.5 in h:\\anaconda\\lib\\site-packages (from python-dateutil>=2.7->matplotlib) (1.16.0)\n",
      "Note: you may need to restart the kernel to use updated packages.\n"
     ]
    }
   ],
   "source": [
    "pip install matplotlib"
   ]
  },
  {
   "cell_type": "code",
   "execution_count": 19,
   "id": "8dec4d5d-8214-47a2-a622-4015b7152862",
   "metadata": {},
   "outputs": [
    {
     "data": {
      "image/png": "[encoded data removed]",
      "text/plain": [
       "<Figure size 1000x600 with 1 Axes>"
      ]
     },
     "metadata": {},
     "output_type": "display_data"
    }
   ],
   "source": [
    "import matplotlib.pyplot as plt\n",
    "import warnings\n",
    "warnings.filterwarnings(\"ignore\", category=UserWarning)\n",
    "# Plot result counts per site\n",
    "\n",
    "site_summary.plot(kind='bar', figsize=(10,6))\n",
    "plt.title(\"Attack Outcome by Test Environment\")\n",
    "plt.xlabel(\"WordPress Site\")\n",
    "plt.ylabel(\"Number of Payloads\")\n",
    "plt.xticks(rotation=0)\n",
    "plt.legend(title=\"Classification\")\n",
    "plt.tight_layout()\n",
    "plt.show()"
   ]
  },
  {
   "cell_type": "code",
   "execution_count": null,
   "id": "9ee6552e-93bc-477e-8010-b97eab41fde6",
   "metadata": {},
   "outputs": [],
   "source": []
  }
 ],
 "metadata": {
  "kernelspec": {
   "display_name": "Python [conda env:base] *",
   "language": "python",
   "name": "conda-base-py"
  },
  "language_info": {
   "codemirror_mode": {
    "name": "ipython",
    "version": 3
   },
   "file_extension": ".py",
   "mimetype": "text/x-python",
   "name": "python",
   "nbconvert_exporter": "python",
   "pygments_lexer": "ipython3",
   "version": "3.12.7"
  }
 },
 "nbformat": 4,
 "nbformat_minor": 5
}
